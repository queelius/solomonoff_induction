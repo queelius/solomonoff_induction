


#import utils
#P = utils.generate_bit_transition_matrix(2)


import mc2
import random

# Generate bit sequence from the original code
sequence = ''
n_samples = 100
for _ in range(n_samples):
    x = random.randint(0, 3)
    y = random.randint(0, 3)
    z = (x + y)
    sequence += f'{x}+{y}={z}. '


sequence[0:10]


# Train the Markov Chain model
order = 7
markov_chain = mc2.MarkovChain(order)
markov_chain.train(sequence)


markov_chain.model



