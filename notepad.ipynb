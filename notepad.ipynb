{
 "cells": [
  {
   "attachments": {},
   "cell_type": "markdown",
   "metadata": {},
   "source": [
    "# Markov chains\n",
    "\n",
    "A first-order Markov chain is a conditional probability distribution of the form\n",
    "$$\n",
    "    P(X_k = x_k | X_{k-1} = x_{k-1}),\n",
    "$$\n",
    "where $x_j \\in X$, $X$ is the support of $X_1,X_2,\\ldots$.\n",
    "In this context, we refer to $X$ as the set of *tokens* that may be observed.\n",
    "\n",
    "An $n$-th order Markov chain models\n",
    "$$\n",
    "    P(X_k = x_k | x_{k-1}, x_{k-2}, \\ldots, x_{k-n + 1}).\n",
    "$$\n",
    "\n",
    "We can model this with a first-order Markov chain with $|X|^n$ states, where\n",
    "each state has up to $|X|$ non-zero transition probabilities,\n",
    "$$\n",
    "    P(S_k = s_k | S_{k-1} = s_{k-1})\n",
    "$$\n",
    "where $s_1,s_2,\\ldots \\in X^n$ but we still do state transitions on $x_1,x_2,\\ldots$.\n",
    "Some observations:\n",
    "\n",
    "1. As the token set $X$ increases in size (cardinality), the number of states grows\n",
    "   by $|X|^n$, e.g., if $n=2$ then it grows quadradically.\n",
    "2. As the order $n$ increases, the number of states grows exponentially.\n",
    "3. As the order $n$ increases, the number of state transitions stays *constant*, $O(|X|)$.\n",
    "4. As the order $n$ increases, the Markov chain's transition matrix becomes increasingly sparse,\n",
    "   with a maximum density of $|X|^{1-n}$ non-zero entries (as $n \\to \\infty$, the density\n",
    "   goes to $0$)."
   ]
  },
  {
   "cell_type": "code",
   "execution_count": 1,
   "metadata": {},
   "outputs": [],
   "source": [
    "import mc2\n",
    "import random\n",
    "\n",
    "data = []\n",
    "samples = 100\n",
    "for i in range(samples):\n",
    "    x = random.randint(0, 5)\n",
    "    y = random.randint(0, 5)\n",
    "    z = (x + y)\n",
    "    token_sequence = f'{x}+{y}={z}.'\n",
    "    data.append(token_sequence)"
   ]
  },
  {
   "cell_type": "code",
   "execution_count": 2,
   "metadata": {},
   "outputs": [
    {
     "data": {
      "text/plain": [
       "'2+0=2.'"
      ]
     },
     "execution_count": 2,
     "metadata": {},
     "output_type": "execute_result"
    }
   ],
   "source": [
    "data[2]"
   ]
  },
  {
   "cell_type": "code",
   "execution_count": 8,
   "metadata": {},
   "outputs": [
    {
     "name": "stdout",
     "output_type": "stream",
     "text": [
      "training on data with order 5\n",
      "tokens: 4+5=9.\n"
     ]
    },
    {
     "ename": "KeyError",
     "evalue": "''",
     "output_type": "error",
     "traceback": [
      "\u001b[0;31m---------------------------------------------------------------------------\u001b[0m",
      "\u001b[0;31mKeyError\u001b[0m                                  Traceback (most recent call last)",
      "Cell \u001b[0;32mIn[8], line 2\u001b[0m\n\u001b[1;32m      1\u001b[0m markov_chain \u001b[38;5;241m=\u001b[39m mc2\u001b[38;5;241m.\u001b[39mMarkovChain(order \u001b[38;5;241m=\u001b[39m \u001b[38;5;241m5\u001b[39m)\n\u001b[0;32m----> 2\u001b[0m markov_chain\u001b[38;5;241m.\u001b[39mtrain(data)\n",
      "File \u001b[0;32m~/llm/various-notebooks/solomonoff_induction/mc2.py:27\u001b[0m, in \u001b[0;36mMarkovChain.train\u001b[0;34m(self, data)\u001b[0m\n\u001b[1;32m     25\u001b[0m prev_tokens \u001b[38;5;241m=\u001b[39m tokens[j:j\u001b[38;5;241m+\u001b[39mk]\n\u001b[1;32m     26\u001b[0m next_token \u001b[38;5;241m=\u001b[39m tokens[j\u001b[38;5;241m+\u001b[39mk]\n\u001b[0;32m---> 27\u001b[0m \u001b[38;5;28mself\u001b[39m\u001b[38;5;241m.\u001b[39mmodel[prev_tokens][next_token] \u001b[38;5;241m+\u001b[39m\u001b[38;5;241m=\u001b[39m \u001b[38;5;241m1\u001b[39m\n",
      "\u001b[0;31mKeyError\u001b[0m: ''"
     ]
    }
   ],
   "source": [
    "markov_chain = mc2.MarkovChain(order = 5)\n",
    "markov_chain.train(data)"
   ]
  },
  {
   "cell_type": "code",
   "execution_count": 6,
   "metadata": {},
   "outputs": [
    {
     "data": {
      "text/plain": [
       "{}"
      ]
     },
     "execution_count": 6,
     "metadata": {},
     "output_type": "execute_result"
    }
   ],
   "source": [
    "markov_chain.model"
   ]
  },
  {
   "cell_type": "code",
   "execution_count": null,
   "metadata": {},
   "outputs": [],
   "source": []
  }
 ],
 "metadata": {
  "kernelspec": {
   "display_name": "Python 3 (ipykernel)",
   "language": "python",
   "name": "python3"
  },
  "language_info": {
   "codemirror_mode": {
    "name": "ipython",
    "version": 3
   },
   "file_extension": ".py",
   "mimetype": "text/x-python",
   "name": "python",
   "nbconvert_exporter": "python",
   "pygments_lexer": "ipython3",
   "version": "3.11.5"
  }
 },
 "nbformat": 4,
 "nbformat_minor": 4
}
